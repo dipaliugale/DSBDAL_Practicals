{
 "cells": [
  {
   "cell_type": "code",
   "execution_count": 2,
   "id": "46012ff7",
   "metadata": {},
   "outputs": [],
   "source": [
    "import nltk"
   ]
  },
  {
   "cell_type": "code",
   "execution_count": 3,
   "id": "b02cff4e",
   "metadata": {},
   "outputs": [
    {
     "name": "stderr",
     "output_type": "stream",
     "text": [
      "[nltk_data] Downloading package punkt to\n",
      "[nltk_data]     C:\\Users\\dipal\\AppData\\Roaming\\nltk_data...\n",
      "[nltk_data]   Unzipping tokenizers\\punkt.zip.\n",
      "[nltk_data] Downloading package stopwords to\n",
      "[nltk_data]     C:\\Users\\dipal\\AppData\\Roaming\\nltk_data...\n",
      "[nltk_data]   Unzipping corpora\\stopwords.zip.\n",
      "[nltk_data] Downloading package wordnet to\n",
      "[nltk_data]     C:\\Users\\dipal\\AppData\\Roaming\\nltk_data...\n",
      "[nltk_data] Downloading package averaged_perceptron_tagger to\n",
      "[nltk_data]     C:\\Users\\dipal\\AppData\\Roaming\\nltk_data...\n",
      "[nltk_data]   Unzipping taggers\\averaged_perceptron_tagger.zip.\n"
     ]
    },
    {
     "data": {
      "text/plain": [
       "True"
      ]
     },
     "execution_count": 3,
     "metadata": {},
     "output_type": "execute_result"
    }
   ],
   "source": [
    "nltk.download('punkt')\n",
    "nltk.download('stopwords')\n",
    "nltk.download('wordnet')\n",
    "nltk.download('averaged_perceptron_tagger')"
   ]
  },
  {
   "cell_type": "code",
   "execution_count": 4,
   "id": "40b6e3f6",
   "metadata": {},
   "outputs": [],
   "source": [
    "#Initialize the text\n",
    "text = \"Hey Dipali, I just finished training a machine learning model on our dataset. The accuracy improved to 92% after hyperparameter tuning! Let’s discuss the next steps in our meeting tomorrow.\""
   ]
  },
  {
   "cell_type": "code",
   "execution_count": 5,
   "id": "2efa140f",
   "metadata": {},
   "outputs": [
    {
     "name": "stdout",
     "output_type": "stream",
     "text": [
      "['Hey Dipali, I just finished training a machine learning model on our dataset.', 'The accuracy improved to 92% after hyperparameter tuning!', 'Let’s discuss the next steps in our meeting tomorrow.']\n"
     ]
    }
   ],
   "source": [
    "from nltk.tokenize import sent_tokenize\n",
    "tokenized_text= sent_tokenize(text)\n",
    "print(tokenized_text)\n"
   ]
  },
  {
   "cell_type": "code",
   "execution_count": 6,
   "id": "f4391ff5",
   "metadata": {},
   "outputs": [
    {
     "name": "stdout",
     "output_type": "stream",
     "text": [
      "['Hey', 'Dipali', ',', 'I', 'just', 'finished', 'training', 'a', 'machine', 'learning', 'model', 'on', 'our', 'dataset', '.', 'The', 'accuracy', 'improved', 'to', '92', '%', 'after', 'hyperparameter', 'tuning', '!', 'Let', '’', 's', 'discuss', 'the', 'next', 'steps', 'in', 'our', 'meeting', 'tomorrow', '.']\n"
     ]
    }
   ],
   "source": [
    "from nltk.tokenize import word_tokenize\n",
    "tokenized_word=word_tokenize(text)\n",
    "print(tokenized_word)"
   ]
  },
  {
   "cell_type": "code",
   "execution_count": 10,
   "id": "f6a6f8ad",
   "metadata": {},
   "outputs": [
    {
     "name": "stdout",
     "output_type": "stream",
     "text": [
      "{\"she's\", \"wasn't\", 'will', 'you', 'mustn', 'can', 'll', 'didn', \"that'll\", 'by', 'having', 'over', 'this', \"you'd\", 'only', 'again', \"it'll\", 'doesn', 'don', 'him', 't', 'those', \"weren't\", 'shan', 'd', 'each', \"aren't\", 'yourself', 'aren', \"didn't\", 'so', 'against', \"mightn't\", 'most', \"haven't\", 'there', 'a', \"i'd\", 'of', 'in', 'until', 'above', 'he', 'be', 'wouldn', \"he'll\", 'hasn', \"they'll\", 'as', 'into', 'do', 'his', 'being', 'these', 'does', 'up', 'with', 'that', 'when', 'couldn', 'down', 'how', \"couldn't\", 'themselves', 'ourselves', 'than', 'own', 'theirs', 'her', 've', 'ain', \"you've\", 'while', 'where', 'through', 'it', \"i'll\", 'y', 'yours', 'some', 'won', 'did', 'now', 'o', 'but', 'off', 'after', 'such', \"we'll\", 'has', \"won't\", 'weren', 'once', 'itself', 'are', 'ours', 'then', 'too', 'before', 's', 'during', \"hasn't\", 'their', 'an', 'we', 'to', 'had', \"shouldn't\", 'our', 'here', \"mustn't\", \"shan't\", 'just', \"wouldn't\", 'other', \"he'd\", 'or', 'was', 'i', 'they', 'under', 'myself', 'your', 'himself', \"isn't\", \"they've\", 'between', \"needn't\", 'at', 'nor', 'doing', \"she'll\", 'same', 'below', 'my', 'hers', 'yourselves', \"doesn't\", \"they'd\", 'hadn', \"don't\", 'which', 'needn', 'what', 'ma', 'is', \"should've\", 'and', 'who', 'for', 'out', 'mightn', 'wasn', 'should', 'haven', \"you're\", \"you'll\", 'been', 'because', 'have', \"hadn't\", 'from', 'me', 'more', 'them', \"they're\", 'why', 'any', \"i'm\", 'were', 'both', 'if', 're', 'am', 'she', 'm', \"she'd\", \"we'd\", \"we're\", \"it's\", 'the', 'further', \"i've\", 'about', \"it'd\", 'no', 'herself', 'few', 'very', 'on', \"we've\", 'whom', 'not', 'all', \"he's\", 'shouldn', 'its', 'isn'}\n",
      "Tokenized Sentence: ['data', 'science', 'is', 'an', 'interdisciplinary', 'field', 'that', 'uses', 'scientific', 'methods', 'processes', 'and', 'algorithms', 'to', 'extract', 'knowledge', 'from', 'data']\n",
      "Filterd Sentence: ['data', 'science', 'interdisciplinary', 'field', 'uses', 'scientific', 'methods', 'processes', 'algorithms', 'extract', 'knowledge', 'data']\n"
     ]
    }
   ],
   "source": [
    "# print stop words of English\n",
    "import re\n",
    "from nltk.corpus import stopwords\n",
    "stop_words=set(stopwords.words(\"english\"))\n",
    "print(stop_words)\n",
    "text= \"Data science is an interdisciplinary field that uses scientific methods, processes, and algorithms to extract knowledge from data.\"\n",
    "text= re.sub('[^a-zA-Z]', ' ',text)\n",
    "tokens = word_tokenize(text.lower())\n",
    "filtered_text=[]\n",
    "for w in tokens:\n",
    "    if w not in stop_words:\n",
    "        filtered_text.append(w)\n",
    "print(\"Tokenized Sentence:\",tokens)\n",
    "print(\"Filterd Sentence:\",filtered_text)"
   ]
  },
  {
   "cell_type": "code",
   "execution_count": 16,
   "id": "496c4799",
   "metadata": {},
   "outputs": [
    {
     "name": "stdout",
     "output_type": "stream",
     "text": [
      "play\n"
     ]
    }
   ],
   "source": [
    "# Perform Stemming\n",
    "from nltk.stem import PorterStemmer\n",
    "ps = PorterStemmer()\n",
    "e_words= [\"play\",\"playing\",\"played\",\"plays\"]\n",
    "for w in e_words:\n",
    "    rootWord=ps.stem(w)\n",
    "print(rootWord)"
   ]
  },
  {
   "cell_type": "code",
   "execution_count": 25,
   "id": "d0cf6ded",
   "metadata": {},
   "outputs": [
    {
     "name": "stdout",
     "output_type": "stream",
     "text": [
      "Lemma for studies is study\n",
      "Lemma for studying is studying\n",
      "Lemma for cries is cry\n",
      "Lemma for cry is cry\n"
     ]
    }
   ],
   "source": [
    "# Perform Lemmatization\n",
    "from nltk.stem import WordNetLemmatizer\n",
    "from nltk.tokenize import word_tokenize\n",
    "wordnet_lemmatizer = WordNetLemmatizer()\n",
    "text = \"studies studying cries cry\"\n",
    "tokenization = word_tokenize(text)\n",
    "for w in tokenization:\n",
    "    print(\"Lemma for {} is {}\".format(w, wordnet_lemmatizer.lemmatize(w)))  \n",
    "\n"
   ]
  },
  {
   "cell_type": "code",
   "execution_count": 26,
   "id": "11c35a61",
   "metadata": {},
   "outputs": [
    {
     "name": "stdout",
     "output_type": "stream",
     "text": [
      "[('The', 'DT')]\n",
      "[('pink', 'NN')]\n",
      "[('sweater', 'NN')]\n",
      "[('fit', 'NN')]\n",
      "[('her', 'PRP$')]\n",
      "[('perfectly', 'RB')]\n"
     ]
    }
   ],
   "source": [
    "# Apply POS Tagging to text\n",
    "import nltk\n",
    "from nltk.tokenize import word_tokenize\n",
    "data = \"The pink sweater fit her perfectly\"\n",
    "words = word_tokenize(data)\n",
    "for word in words:\n",
    "    print(nltk.pos_tag([word]))"
   ]
  },
  {
   "cell_type": "code",
   "execution_count": null,
   "id": "ee06762e",
   "metadata": {},
   "outputs": [],
   "source": []
  }
 ],
 "metadata": {
  "kernelspec": {
   "display_name": "Python 3 (ipykernel)",
   "language": "python",
   "name": "python3"
  },
  "language_info": {
   "codemirror_mode": {
    "name": "ipython",
    "version": 3
   },
   "file_extension": ".py",
   "mimetype": "text/x-python",
   "name": "python",
   "nbconvert_exporter": "python",
   "pygments_lexer": "ipython3",
   "version": "3.11.5"
  }
 },
 "nbformat": 4,
 "nbformat_minor": 5
}
