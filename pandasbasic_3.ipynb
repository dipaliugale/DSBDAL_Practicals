{
 "cells": [
  {
   "cell_type": "code",
   "execution_count": 1,
   "id": "be30dfe8",
   "metadata": {},
   "outputs": [],
   "source": [
    "import pandas as pd"
   ]
  },
  {
   "cell_type": "code",
   "execution_count": 2,
   "id": "471bd290",
   "metadata": {},
   "outputs": [],
   "source": [
    "data = { \"Math\": [85, 78, 92, 60, 74, 88],\n",
    " \"Science\": [80, 82, 89, 65, 70, 90],\n",
    "  \"English\": [75, 85, 78, 55, 72, 88], \n",
    "  \"History\": [70, 75, 80, 50, 68, 82] }"
   ]
  },
  {
   "cell_type": "code",
   "execution_count": 3,
   "id": "a79b9574",
   "metadata": {},
   "outputs": [],
   "source": [
    "students = [\"Student1\", \"Student2\", \"Student3\", \"Student4\", \"Student5\", \"Student6\"] "
   ]
  },
  {
   "cell_type": "code",
   "execution_count": 4,
   "id": "0333aeaf",
   "metadata": {},
   "outputs": [],
   "source": [
    "X = pd.DataFrame(data, index=students)"
   ]
  },
  {
   "cell_type": "code",
   "execution_count": 7,
   "id": "4d8aae90",
   "metadata": {},
   "outputs": [
    {
     "data": {
      "text/html": [
       "<div>\n",
       "<style scoped>\n",
       "    .dataframe tbody tr th:only-of-type {\n",
       "        vertical-align: middle;\n",
       "    }\n",
       "\n",
       "    .dataframe tbody tr th {\n",
       "        vertical-align: top;\n",
       "    }\n",
       "\n",
       "    .dataframe thead th {\n",
       "        text-align: right;\n",
       "    }\n",
       "</style>\n",
       "<table border=\"1\" class=\"dataframe\">\n",
       "  <thead>\n",
       "    <tr style=\"text-align: right;\">\n",
       "      <th></th>\n",
       "      <th>Math</th>\n",
       "      <th>Science</th>\n",
       "      <th>English</th>\n",
       "      <th>History</th>\n",
       "    </tr>\n",
       "  </thead>\n",
       "  <tbody>\n",
       "    <tr>\n",
       "      <th>Student1</th>\n",
       "      <td>85</td>\n",
       "      <td>80</td>\n",
       "      <td>75</td>\n",
       "      <td>70</td>\n",
       "    </tr>\n",
       "    <tr>\n",
       "      <th>Student2</th>\n",
       "      <td>78</td>\n",
       "      <td>82</td>\n",
       "      <td>85</td>\n",
       "      <td>75</td>\n",
       "    </tr>\n",
       "    <tr>\n",
       "      <th>Student3</th>\n",
       "      <td>92</td>\n",
       "      <td>89</td>\n",
       "      <td>78</td>\n",
       "      <td>80</td>\n",
       "    </tr>\n",
       "  </tbody>\n",
       "</table>\n",
       "</div>"
      ],
      "text/plain": [
       "          Math  Science  English  History\n",
       "Student1    85       80       75       70\n",
       "Student2    78       82       85       75\n",
       "Student3    92       89       78       80"
      ]
     },
     "execution_count": 7,
     "metadata": {},
     "output_type": "execute_result"
    }
   ],
   "source": [
    "# Display the first three rows of the exam_scores DataFrame.\n",
    "X.head(3)"
   ]
  },
  {
   "cell_type": "code",
   "execution_count": 11,
   "id": "dc3f6470",
   "metadata": {},
   "outputs": [
    {
     "name": "stdout",
     "output_type": "stream",
     "text": [
      "Total student: 6 ,Total subject: 4\n"
     ]
    }
   ],
   "source": [
    "# Get the total number of students and subjects recorded in the DataFrame.\n",
    "a,b=X.shape\n",
    "print(f\"Total student: {a} ,Total subject: {b}\")"
   ]
  },
  {
   "cell_type": "code",
   "execution_count": 14,
   "id": "8d920d18",
   "metadata": {},
   "outputs": [
    {
     "name": "stdout",
     "output_type": "stream",
     "text": [
      "Sub: ['Math', 'Science', 'English', 'History']\n",
      "Stud: ['Student1', 'Student2', 'Student3', 'Student4', 'Student5', 'Student6']\n"
     ]
    }
   ],
   "source": [
    "#  List all subject names and student names.\n",
    "sub = X.columns.tolist()\n",
    "stud = X.index.tolist()\n",
    "print(f\"Sub: {sub}\")\n",
    "print(f\"Stud: {stud}\")\n"
   ]
  },
  {
   "cell_type": "code",
   "execution_count": 18,
   "id": "2fcf2170",
   "metadata": {},
   "outputs": [
    {
     "name": "stdout",
     "output_type": "stream",
     "text": [
      "Math       int64\n",
      "Science    int64\n",
      "English    int64\n",
      "History    int64\n",
      "dtype: object\n"
     ]
    }
   ],
   "source": [
    "# Display the data type of each column in the DataFrame.\n",
    "X.dtypes"
   ]
  },
  {
   "cell_type": "code",
   "execution_count": 21,
   "id": "36bf9b09",
   "metadata": {},
   "outputs": [
    {
     "data": {
      "text/plain": [
       "Math       0\n",
       "Science    0\n",
       "English    0\n",
       "History    0\n",
       "dtype: int64"
      ]
     },
     "execution_count": 21,
     "metadata": {},
     "output_type": "execute_result"
    }
   ],
   "source": [
    "# Check if there are any missing values in the DataFrame.\n",
    "X.isnull().sum()"
   ]
  },
  {
   "cell_type": "code",
   "execution_count": 24,
   "id": "0d71a4b7",
   "metadata": {},
   "outputs": [
    {
     "data": {
      "text/plain": [
       "Math       92\n",
       "Science    89\n",
       "English    78\n",
       "History    80\n",
       "Name: Student3, dtype: int64"
      ]
     },
     "execution_count": 24,
     "metadata": {},
     "output_type": "execute_result"
    }
   ],
   "source": [
    "# Retrieve the scores of \"Student 3\" in all subjects.\n",
    "X.loc[\"Student3\"]"
   ]
  },
  {
   "cell_type": "code",
   "execution_count": 33,
   "id": "a855eef1",
   "metadata": {},
   "outputs": [
    {
     "data": {
      "text/plain": [
       "Math       85\n",
       "Science    80\n",
       "English    75\n",
       "History    70\n",
       "Name: Student1, dtype: int64"
      ]
     },
     "execution_count": 33,
     "metadata": {},
     "output_type": "execute_result"
    }
   ],
   "source": [
    "# Extract the scores of all students in \"Math\".\n",
    "X.iloc[0]"
   ]
  },
  {
   "cell_type": "code",
   "execution_count": 34,
   "id": "9ff6d2af",
   "metadata": {},
   "outputs": [
    {
     "data": {
      "text/html": [
       "<div>\n",
       "<style scoped>\n",
       "    .dataframe tbody tr th:only-of-type {\n",
       "        vertical-align: middle;\n",
       "    }\n",
       "\n",
       "    .dataframe tbody tr th {\n",
       "        vertical-align: top;\n",
       "    }\n",
       "\n",
       "    .dataframe thead th {\n",
       "        text-align: right;\n",
       "    }\n",
       "</style>\n",
       "<table border=\"1\" class=\"dataframe\">\n",
       "  <thead>\n",
       "    <tr style=\"text-align: right;\">\n",
       "      <th></th>\n",
       "      <th>Science</th>\n",
       "      <th>English</th>\n",
       "    </tr>\n",
       "  </thead>\n",
       "  <tbody>\n",
       "    <tr>\n",
       "      <th>Student1</th>\n",
       "      <td>80</td>\n",
       "      <td>75</td>\n",
       "    </tr>\n",
       "    <tr>\n",
       "      <th>Student4</th>\n",
       "      <td>65</td>\n",
       "      <td>55</td>\n",
       "    </tr>\n",
       "  </tbody>\n",
       "</table>\n",
       "</div>"
      ],
      "text/plain": [
       "          Science  English\n",
       "Student1       80       75\n",
       "Student4       65       55"
      ]
     },
     "execution_count": 34,
     "metadata": {},
     "output_type": "execute_result"
    }
   ],
   "source": [
    "# Retrieve the scores of \"Student 1\" and \"Student 4\" in \"Science\" and \"English\".\n",
    "X.loc[[\"Student1\", \"Student4\"], [\"Science\", \"English\"]]"
   ]
  },
  {
   "cell_type": "code",
   "execution_count": 35,
   "id": "54a295c9",
   "metadata": {},
   "outputs": [
    {
     "data": {
      "text/html": [
       "<div>\n",
       "<style scoped>\n",
       "    .dataframe tbody tr th:only-of-type {\n",
       "        vertical-align: middle;\n",
       "    }\n",
       "\n",
       "    .dataframe tbody tr th {\n",
       "        vertical-align: top;\n",
       "    }\n",
       "\n",
       "    .dataframe thead th {\n",
       "        text-align: right;\n",
       "    }\n",
       "</style>\n",
       "<table border=\"1\" class=\"dataframe\">\n",
       "  <thead>\n",
       "    <tr style=\"text-align: right;\">\n",
       "      <th></th>\n",
       "      <th>Math</th>\n",
       "      <th>Science</th>\n",
       "      <th>English</th>\n",
       "    </tr>\n",
       "  </thead>\n",
       "  <tbody>\n",
       "    <tr>\n",
       "      <th>Student1</th>\n",
       "      <td>85</td>\n",
       "      <td>80</td>\n",
       "      <td>75</td>\n",
       "    </tr>\n",
       "    <tr>\n",
       "      <th>Student2</th>\n",
       "      <td>78</td>\n",
       "      <td>82</td>\n",
       "      <td>85</td>\n",
       "    </tr>\n",
       "    <tr>\n",
       "      <th>Student3</th>\n",
       "      <td>92</td>\n",
       "      <td>89</td>\n",
       "      <td>78</td>\n",
       "    </tr>\n",
       "    <tr>\n",
       "      <th>Student4</th>\n",
       "      <td>60</td>\n",
       "      <td>65</td>\n",
       "      <td>55</td>\n",
       "    </tr>\n",
       "  </tbody>\n",
       "</table>\n",
       "</div>"
      ],
      "text/plain": [
       "          Math  Science  English\n",
       "Student1    85       80       75\n",
       "Student2    78       82       85\n",
       "Student3    92       89       78\n",
       "Student4    60       65       55"
      ]
     },
     "execution_count": 35,
     "metadata": {},
     "output_type": "execute_result"
    }
   ],
   "source": [
    "# Slice the DataFrame to get the first 4 students and the first 3 subjects.\n",
    "X.iloc[:4,:3]"
   ]
  },
  {
   "cell_type": "code",
   "execution_count": 38,
   "id": "760814fb",
   "metadata": {},
   "outputs": [
    {
     "data": {
      "text/plain": [
       "68"
      ]
     },
     "execution_count": 38,
     "metadata": {},
     "output_type": "execute_result"
    }
   ],
   "source": [
    "# Retrieve the score of \"Student5\" in \"History\" using .loc or .iloc.\n",
    "X.iloc[4,3]"
   ]
  },
  {
   "cell_type": "code",
   "execution_count": 60,
   "id": "713bd29b",
   "metadata": {},
   "outputs": [
    {
     "name": "stdout",
     "output_type": "stream",
     "text": [
      "85\n"
     ]
    }
   ],
   "source": [
    "# Update the score of \"Student2\" in \"Math\" to 85.\n",
    "mark=X.loc[\"Student2\", \"Math\"] = 85\n",
    "print(mark)"
   ]
  },
  {
   "cell_type": "code",
   "execution_count": 63,
   "id": "dd62a3ce",
   "metadata": {},
   "outputs": [
    {
     "name": "stdout",
     "output_type": "stream",
     "text": [
      "[90, 85, 88, 80]\n"
     ]
    }
   ],
   "source": [
    "#  Add a new student, \"Student7\", with scores [90, 85, 88, 80] for all subjects.\n",
    "Add_stud=X.loc[\"Student7\"] = [90, 85, 88, 80]\n",
    "print(Add_stud)"
   ]
  },
  {
   "cell_type": "code",
   "execution_count": 48,
   "id": "cf104dcc",
   "metadata": {},
   "outputs": [
    {
     "name": "stdout",
     "output_type": "stream",
     "text": [
      "           Math  Science  English  History\n",
      "Student1     95       90       85       80\n",
      "Student2     95       92       95       85\n",
      "Student3    102       99       88       90\n",
      "Student4     70       75       65       60\n",
      "Student5     84       80       82       78\n",
      "Student6     98      100       98       92\n",
      "Student 7   100       95       98       90\n",
      "Student7     95       90       93       85\n"
     ]
    }
   ],
   "source": [
    "# Add 5 bonus marks to all students' scores.\n",
    "X += 5\n",
    "print(X)"
   ]
  },
  {
   "cell_type": "code",
   "execution_count": 50,
   "id": "736a6314",
   "metadata": {},
   "outputs": [
    {
     "name": "stdout",
     "output_type": "stream",
     "text": [
      "           Math  Science  English  History\n",
      "Student1     95       90       85       80\n",
      "Student2     95       92       95       85\n",
      "Student3    102       99       88       90\n",
      "Student4     67       72       62       57\n",
      "Student5     84       80       82       78\n",
      "Student6     98      100       98       92\n",
      "Student 7   100       95       98       90\n",
      "Student7     95       90       93       85\n"
     ]
    }
   ],
   "source": [
    "# Deduct 3 marks from the scores of \"Student4\" in all subjects.\n",
    "X.loc[\"Student4\"] -= 3\n",
    "print(X)"
   ]
  },
  {
   "cell_type": "code",
   "execution_count": 64,
   "id": "a6cb7338",
   "metadata": {},
   "outputs": [
    {
     "name": "stdout",
     "output_type": "stream",
     "text": [
      "Student1     87.50\n",
      "Student2     89.25\n",
      "Student3     94.75\n",
      "Student4     64.50\n",
      "Student5     81.00\n",
      "Student6     97.00\n",
      "Student 7    95.75\n",
      "Student7     85.75\n",
      "dtype: float64\n"
     ]
    }
   ],
   "source": [
    "#  Calculate the percentage of marks obtained by each student, assuming each subject has a maximum of 100 marks.\n",
    "percentage = X.sum(axis=1) /400 * 100\n",
    "print(percentage)"
   ]
  },
  {
   "cell_type": "code",
   "execution_count": 55,
   "id": "8c7e0a16",
   "metadata": {},
   "outputs": [
    {
     "name": "stdout",
     "output_type": "stream",
     "text": [
      "Student1     350\n",
      "Student2     367\n",
      "Student3     379\n",
      "Student4     258\n",
      "Student5     324\n",
      "Student6     388\n",
      "Student 7    383\n",
      "Student7     343\n",
      "dtype: int64\n"
     ]
    }
   ],
   "source": [
    "# Calculate the total marks obtained by each student.\n",
    "total_marks = X.sum(axis=1)\n",
    "print(total_marks)"
   ]
  },
  {
   "cell_type": "code",
   "execution_count": 56,
   "id": "5425bc8f",
   "metadata": {},
   "outputs": [
    {
     "name": "stdout",
     "output_type": "stream",
     "text": [
      "Math       731\n",
      "Science    713\n",
      "English    696\n",
      "History    652\n",
      "dtype: int64\n"
     ]
    }
   ],
   "source": [
    "#  Determine the total marks scored in each subject.\n",
    "total_per_subject = X.sum(axis=0)\n",
    "print(total_per_subject)"
   ]
  },
  {
   "cell_type": "code",
   "execution_count": 57,
   "id": "b5733155",
   "metadata": {},
   "outputs": [
    {
     "name": "stdout",
     "output_type": "stream",
     "text": [
      "Student with highest total marks: Student6\n"
     ]
    }
   ],
   "source": [
    "#  Identify the student with the highest total marks.\n",
    "highest_marks_student = total_marks.idxmax()\n",
    "print(f\"Student with highest total marks: {highest_marks_student}\")"
   ]
  },
  {
   "cell_type": "code",
   "execution_count": 58,
   "id": "5a1e3909",
   "metadata": {},
   "outputs": [
    {
     "name": "stdout",
     "output_type": "stream",
     "text": [
      "Subject with lowest total marks: History\n"
     ]
    }
   ],
   "source": [
    "#  Find the subject with the lowest total marks.\n",
    "lowest_marks_subject = total_per_subject.idxmin()\n",
    "print(f\"Subject with lowest total marks: {lowest_marks_subject}\")"
   ]
  },
  {
   "cell_type": "code",
   "execution_count": 59,
   "id": "2678c6c4",
   "metadata": {},
   "outputs": [
    {
     "name": "stdout",
     "output_type": "stream",
     "text": [
      "Student1     87.50\n",
      "Student2     91.75\n",
      "Student3     94.75\n",
      "Student4     64.50\n",
      "Student5     81.00\n",
      "Student6     97.00\n",
      "Student 7    95.75\n",
      "Student7     85.75\n",
      "dtype: float64\n"
     ]
    }
   ],
   "source": [
    "#  Compute the average marks scored by each student across all subjects.\n",
    "average_marks_per_student = X.mean(axis=1)\n",
    "print(average_marks_per_student)"
   ]
  },
  {
   "cell_type": "code",
   "execution_count": null,
   "id": "d17a60a4",
   "metadata": {},
   "outputs": [],
   "source": []
  }
 ],
 "metadata": {
  "kernelspec": {
   "display_name": "Python 3 (ipykernel)",
   "language": "python",
   "name": "python3"
  },
  "language_info": {
   "codemirror_mode": {
    "name": "ipython",
    "version": 3
   },
   "file_extension": ".py",
   "mimetype": "text/x-python",
   "name": "python",
   "nbconvert_exporter": "python",
   "pygments_lexer": "ipython3",
   "version": "3.11.4"
  }
 },
 "nbformat": 4,
 "nbformat_minor": 5
}
