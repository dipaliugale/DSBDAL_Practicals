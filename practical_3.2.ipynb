{
 "cells": [
  {
   "cell_type": "code",
   "execution_count": 1,
   "id": "412bc636-2b88-417f-824c-cc37384debb5",
   "metadata": {},
   "outputs": [],
   "source": [
    "import pandas as pd"
   ]
  },
  {
   "cell_type": "code",
   "execution_count": 2,
   "id": "b2b5b845-6cf7-4655-ba50-941eeadd953b",
   "metadata": {},
   "outputs": [
    {
     "name": "stdout",
     "output_type": "stream",
     "text": [
      "      work_year experience_level employment_type                 job_title  \\\n",
      "0          2023               SE              FT  Principal Data Scientist   \n",
      "1          2023               MI              CT               ML Engineer   \n",
      "2          2023               MI              CT               ML Engineer   \n",
      "3          2023               SE              FT            Data Scientist   \n",
      "4          2023               SE              FT            Data Scientist   \n",
      "...         ...              ...             ...                       ...   \n",
      "3750       2020               SE              FT            Data Scientist   \n",
      "3751       2021               MI              FT  Principal Data Scientist   \n",
      "3752       2020               EN              FT            Data Scientist   \n",
      "3753       2020               EN              CT     Business Data Analyst   \n",
      "3754       2021               SE              FT      Data Science Manager   \n",
      "\n",
      "       salary salary_currency  salary_in_usd employee_residence  remote_ratio  \\\n",
      "0       80000             EUR          85847                 ES           100   \n",
      "1       30000             USD          30000                 US           100   \n",
      "2       25500             USD          25500                 US           100   \n",
      "3      175000             USD         175000                 CA           100   \n",
      "4      120000             USD         120000                 CA           100   \n",
      "...       ...             ...            ...                ...           ...   \n",
      "3750   412000             USD         412000                 US           100   \n",
      "3751   151000             USD         151000                 US           100   \n",
      "3752   105000             USD         105000                 US           100   \n",
      "3753   100000             USD         100000                 US           100   \n",
      "3754  7000000             INR          94665                 IN            50   \n",
      "\n",
      "     company_location company_size  \n",
      "0                  ES            L  \n",
      "1                  US            S  \n",
      "2                  US            S  \n",
      "3                  CA            M  \n",
      "4                  CA            M  \n",
      "...               ...          ...  \n",
      "3750               US            L  \n",
      "3751               US            L  \n",
      "3752               US            S  \n",
      "3753               US            L  \n",
      "3754               IN            L  \n",
      "\n",
      "[3755 rows x 11 columns]\n"
     ]
    }
   ],
   "source": [
    "df=pd.read_csv('ds_salaries.csv')\n",
    "print(df)"
   ]
  },
  {
   "cell_type": "code",
   "execution_count": 4,
   "id": "3785aa51-6215-4b27-a0eb-c9c5d0534024",
   "metadata": {},
   "outputs": [
    {
     "name": "stdout",
     "output_type": "stream",
     "text": [
      "Index(['work_year', 'salary', 'salary_in_usd', 'remote_ratio'], dtype='object')\n"
     ]
    }
   ],
   "source": [
    "numeric_columns=df.select_dtypes(include=['number']).columns\n",
    "print (numeric_columns)"
   ]
  },
  {
   "cell_type": "code",
   "execution_count": 5,
   "id": "f9e64e55-9eb1-4dfc-b747-61fc8db2a451",
   "metadata": {},
   "outputs": [
    {
     "name": "stdout",
     "output_type": "stream",
     "text": [
      "Index(['experience_level', 'employment_type', 'job_title', 'salary_currency',\n",
      "       'employee_residence', 'company_location', 'company_size'],\n",
      "      dtype='object')\n"
     ]
    }
   ],
   "source": [
    "categorical_columns=df.select_dtypes(include=['object']).columns\n",
    "print (categorical_columns)"
   ]
  },
  {
   "cell_type": "code",
   "execution_count": 7,
   "id": "99c20e69-4d33-4d98-bee5-0e6ea3cd76e9",
   "metadata": {},
   "outputs": [
    {
     "name": "stdout",
     "output_type": "stream",
     "text": [
      "      work_year   salary  salary_in_usd  remote_ratio\n",
      "0          2023    80000          85847           100\n",
      "1          2023    30000          30000           100\n",
      "2          2023    25500          25500           100\n",
      "3          2023   175000         175000           100\n",
      "4          2023   120000         120000           100\n",
      "...         ...      ...            ...           ...\n",
      "3750       2020   412000         412000           100\n",
      "3751       2021   151000         151000           100\n",
      "3752       2020   105000         105000           100\n",
      "3753       2020   100000         100000           100\n",
      "3754       2021  7000000          94665            50\n",
      "\n",
      "[3755 rows x 4 columns]\n"
     ]
    }
   ],
   "source": [
    "new_numeric_value=df[numeric_columns]\n",
    "print(new_numeric_value)"
   ]
  },
  {
   "cell_type": "code",
   "execution_count": 8,
   "id": "ae766b6f-6fc6-4139-b041-945cb348ae46",
   "metadata": {},
   "outputs": [],
   "source": [
    "from sklearn import preprocessing"
   ]
  },
  {
   "cell_type": "code",
   "execution_count": 9,
   "id": "8a4ce63a-5cbe-4e40-a767-818b76582108",
   "metadata": {},
   "outputs": [],
   "source": [
    "enc = preprocessing.OneHotEncoder()"
   ]
  },
  {
   "cell_type": "code",
   "execution_count": 10,
   "id": "82de54f4-079f-43d1-aec8-1e07a7cc01f3",
   "metadata": {},
   "outputs": [
    {
     "name": "stdout",
     "output_type": "stream",
     "text": [
      "        0    1    2    3\n",
      "0     0.0  0.0  1.0  0.0\n",
      "1     1.0  0.0  0.0  0.0\n",
      "2     1.0  0.0  0.0  0.0\n",
      "3     0.0  0.0  1.0  0.0\n",
      "4     0.0  0.0  1.0  0.0\n",
      "...   ...  ...  ...  ...\n",
      "3750  0.0  0.0  1.0  0.0\n",
      "3751  0.0  0.0  1.0  0.0\n",
      "3752  0.0  0.0  1.0  0.0\n",
      "3753  1.0  0.0  0.0  0.0\n",
      "3754  0.0  0.0  1.0  0.0\n",
      "\n",
      "[3755 rows x 4 columns]\n"
     ]
    }
   ],
   "source": [
    "enc_data = pd.DataFrame(enc.fit_transform(df[['employment_type']]).toarray())\n",
    "enc_data\n",
    "print(enc_data)"
   ]
  },
  {
   "cell_type": "code",
   "execution_count": null,
   "id": "510305e5-e68e-4648-8338-7154af86dc33",
   "metadata": {},
   "outputs": [],
   "source": []
  },
  {
   "cell_type": "code",
   "execution_count": null,
   "id": "ef690dc2-bfc9-4923-acd0-cb798b913063",
   "metadata": {},
   "outputs": [],
   "source": []
  }
 ],
 "metadata": {
  "kernelspec": {
   "display_name": "Python 3 (ipykernel)",
   "language": "python",
   "name": "python3"
  },
  "language_info": {
   "codemirror_mode": {
    "name": "ipython",
    "version": 3
   },
   "file_extension": ".py",
   "mimetype": "text/x-python",
   "name": "python",
   "nbconvert_exporter": "python",
   "pygments_lexer": "ipython3",
   "version": "3.13.2"
  }
 },
 "nbformat": 4,
 "nbformat_minor": 5
}
