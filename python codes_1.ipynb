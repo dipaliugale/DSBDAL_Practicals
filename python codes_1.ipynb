{
 "cells": [
  {
   "cell_type": "code",
   "execution_count": 3,
   "id": "939d376a",
   "metadata": {},
   "outputs": [
    {
     "name": "stdout",
     "output_type": "stream",
     "text": [
      "Rollno is 101 Name of student is Rajesh\n"
     ]
    }
   ],
   "source": [
    "Roll_no=101\n",
    "Name=\"Rajesh\"\n",
    "print(\"Rollno is\",Roll_no,\"Name of student is\",Name)\n"
   ]
  },
  {
   "cell_type": "code",
   "execution_count": 4,
   "id": "e9d24599",
   "metadata": {},
   "outputs": [
    {
     "name": "stdout",
     "output_type": "stream",
     "text": [
      "['a', 'x', 'y', 'z', ['d', 'e', 'h', 'f'], 'p', 'q', 'r', 'g']\n"
     ]
    }
   ],
   "source": [
    "x = ['a', 'x', 'y', 'z', ['d', 'e', 'f'], 'p', 'q', 'r']\n",
    "x.append('g')\n",
    "x[4].insert(2, 'h') \n",
    "print(x)"
   ]
  },
  {
   "cell_type": "code",
   "execution_count": 6,
   "id": "57175a44",
   "metadata": {},
   "outputs": [
    {
     "name": "stdout",
     "output_type": "stream",
     "text": [
      "{'Roll_No': 101, 'Name': 'Ajay', 'fees': 4000}\n"
     ]
    }
   ],
   "source": [
    "student = {'Roll_No':101,'Name':\"Ajay\"}\n",
    "student ['fees']=4000\n",
    "print(student)"
   ]
  },
  {
   "cell_type": "code",
   "execution_count": 7,
   "id": "5a7fb4ef",
   "metadata": {},
   "outputs": [
    {
     "name": "stdout",
     "output_type": "stream",
     "text": [
      "{2, 3, 4, 5, 8}\n"
     ]
    }
   ],
   "source": [
    "a = {2,3,4,5}\n",
    "a.add(2)\n",
    "a.add(8)\n",
    "print(a)"
   ]
  },
  {
   "cell_type": "code",
   "execution_count": 10,
   "id": "feb473a3",
   "metadata": {},
   "outputs": [
    {
     "name": "stdout",
     "output_type": "stream",
     "text": [
      "(2, 3, 4, 6, 7)\n"
     ]
    }
   ],
   "source": [
    "x = (2,3,4,6)\n",
    "y=list(x)\n",
    "y.append(7)\n",
    "x=tuple(y)\n",
    "print(x)"
   ]
  }
 ],
 "metadata": {
  "kernelspec": {
   "display_name": "Python 3 (ipykernel)",
   "language": "python",
   "name": "python3"
  },
  "language_info": {
   "codemirror_mode": {
    "name": "ipython",
    "version": 3
   },
   "file_extension": ".py",
   "mimetype": "text/x-python",
   "name": "python",
   "nbconvert_exporter": "python",
   "pygments_lexer": "ipython3",
   "version": "3.11.5"
  }
 },
 "nbformat": 4,
 "nbformat_minor": 5
}
