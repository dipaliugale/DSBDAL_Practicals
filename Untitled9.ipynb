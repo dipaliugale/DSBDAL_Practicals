{
 "cells": [
  {
   "cell_type": "code",
   "execution_count": 1,
   "id": "0fcd0484",
   "metadata": {},
   "outputs": [],
   "source": [
    "import numpy as np\n",
    "scores = np.array([[85, 90, 78, 92, 88],\n",
    "                    [72, 75, 80, 68, 74],\n",
    "                    [95, 88, 92, 96, 90,],\n",
    "                    [60, 65, 70, 58, 62],  \n",
    "                    [88, 84, 86, 89, 87]])"
   ]
  },
  {
   "cell_type": "code",
   "execution_count": 7,
   "id": "4b89bd0d",
   "metadata": {},
   "outputs": [
    {
     "name": "stdout",
     "output_type": "stream",
     "text": [
      "Student Score [95 88 92 96 90]\n"
     ]
    }
   ],
   "source": [
    "# retrieve the scores of Student 3 for all subjects.\n",
    "student=scores[2,:]\n",
    "print(\"Student Score \",student)"
   ]
  },
  {
   "cell_type": "code",
   "execution_count": 8,
   "id": "de2dc3ca",
   "metadata": {},
   "outputs": [
    {
     "name": "stdout",
     "output_type": "stream",
     "text": [
      "Student Score [90 75 88 65 84]\n"
     ]
    }
   ],
   "source": [
    "#Extract the scores of the last 2 students for the last 3 subjects.\n",
    "student=scores[:,1]\n",
    "print(\"Student Score\", student)"
   ]
  },
  {
   "cell_type": "code",
   "execution_count": 10,
   "id": "f300da5c",
   "metadata": {},
   "outputs": [
    {
     "name": "stdout",
     "output_type": "stream",
     "text": [
      "student scores [[85 90]\n",
      " [72 75]\n",
      " [95 88]]\n"
     ]
    }
   ],
   "source": [
    "student=scores[:3,:2]\n",
    "print(\"student scores\",student)"
   ]
  },
  {
   "cell_type": "code",
   "execution_count": 11,
   "id": "2b2d31e3",
   "metadata": {},
   "outputs": [
    {
     "name": "stdout",
     "output_type": "stream",
     "text": [
      "Student Scores [[70 58 62]\n",
      " [86 89 87]]\n"
     ]
    }
   ],
   "source": [
    "student=scores[3:,2:]\n",
    "print(\"Student Scores\" ,student)"
   ]
  },
  {
   "cell_type": "code",
   "execution_count": 12,
   "id": "50f91518",
   "metadata": {},
   "outputs": [
    {
     "name": "stdout",
     "output_type": "stream",
     "text": [
      "Scores with bonus marks: [[ 90  95  83  97  93]\n",
      " [ 77  80  85  73  79]\n",
      " [100  93  97 101  95]\n",
      " [ 65  70  75  63  67]\n",
      " [ 93  89  91  94  92]]\n"
     ]
    }
   ],
   "source": [
    "# Add the bonus marks to all scores.\n",
    "Bonus_marks=scores + 5\n",
    "print(\"Scores with bonus marks:\",Bonus_marks)"
   ]
  },
  {
   "cell_type": "code",
   "execution_count": 13,
   "id": "d19a4037",
   "metadata": {},
   "outputs": [
    {
     "name": "stdout",
     "output_type": "stream",
     "text": [
      "Subject score [82 58 86 48 79]\n"
     ]
    }
   ],
   "source": [
    "#Substact 10 marks from scores of subject 4 for all students.\n",
    "sub_score=scores[:,3]-10\n",
    "print(\"Subject score\",sub_score)"
   ]
  },
  {
   "cell_type": "code",
   "execution_count": 17,
   "id": "43baa46f",
   "metadata": {},
   "outputs": [
    {
     "name": "stdout",
     "output_type": "stream",
     "text": [
      "perentages scores [86.6 73.8 92.2 63.  86.8]\n"
     ]
    }
   ],
   "source": [
    "# Calculate the percentage scores of each student assuming each subject is out of 100.\n",
    "total_marks=scores.sum(axis=1)\n",
    "percentages=(total_marks/500) * 100\n",
    "print(\"perentages scores\",percentages)"
   ]
  },
  {
   "cell_type": "code",
   "execution_count": 18,
   "id": "73fc2d33",
   "metadata": {},
   "outputs": [
    {
     "name": "stdout",
     "output_type": "stream",
     "text": [
      "Average score per student [86.6 73.8 92.2 63.  86.8]\n"
     ]
    }
   ],
   "source": [
    "#Calculate the average score for each student across all subjects.\n",
    "student_marks=scores.mean(axis=1)\n",
    "print(\"Average score per student\",student_marks)"
   ]
  },
  {
   "cell_type": "code",
   "execution_count": 19,
   "id": "71611929",
   "metadata": {},
   "outputs": [
    {
     "name": "stdout",
     "output_type": "stream",
     "text": [
      "student marks [433 369 461 315 434]\n"
     ]
    }
   ],
   "source": [
    "#Find the total marks scored by each student.\n",
    "total_marks=scores.sum(axis=1)\n",
    "print(\"student marks\",total_marks)"
   ]
  },
  {
   "cell_type": "code",
   "execution_count": 20,
   "id": "707f4eeb",
   "metadata": {},
   "outputs": [
    {
     "name": "stdout",
     "output_type": "stream",
     "text": [
      "Highest score : 96\n"
     ]
    }
   ],
   "source": [
    "#Identify the highest score in the entire array.\n",
    "highest_score = scores.max()\n",
    "print(\"Highest score :\",highest_score)"
   ]
  },
  {
   "cell_type": "code",
   "execution_count": 21,
   "id": "e57937a3",
   "metadata": {},
   "outputs": [
    {
     "name": "stdout",
     "output_type": "stream",
     "text": [
      "Average score subject: [80.  80.4 81.2 80.6 80.2]\n"
     ]
    }
   ],
   "source": [
    "#Determine the average score for each subject.\n",
    "average_scores_subject = scores.mean(axis=0)\n",
    "print(\"Average score subject:\", average_scores_subject)"
   ]
  },
  {
   "cell_type": "code",
   "execution_count": 24,
   "id": "aa90f7f3",
   "metadata": {},
   "outputs": [
    {
     "name": "stdout",
     "output_type": "stream",
     "text": [
      "Student with the lowest average score: Student 1\n"
     ]
    }
   ],
   "source": [
    "#Find the student with the lowest average score.\n",
    "lowest_average_score_index = np.argmin(average_scores_subject)\n",
    "print(\"Student with the lowest average score: Student\", lowest_average_score_index + 1)"
   ]
  },
  {
   "cell_type": "code",
   "execution_count": null,
   "id": "8e531068",
   "metadata": {},
   "outputs": [],
   "source": []
  }
 ],
 "metadata": {
  "kernelspec": {
   "display_name": "Python 3 (ipykernel)",
   "language": "python",
   "name": "python3"
  },
  "language_info": {
   "codemirror_mode": {
    "name": "ipython",
    "version": 3
   },
   "file_extension": ".py",
   "mimetype": "text/x-python",
   "name": "python",
   "nbconvert_exporter": "python",
   "pygments_lexer": "ipython3",
   "version": "3.11.4"
  }
 },
 "nbformat": 4,
 "nbformat_minor": 5
}
